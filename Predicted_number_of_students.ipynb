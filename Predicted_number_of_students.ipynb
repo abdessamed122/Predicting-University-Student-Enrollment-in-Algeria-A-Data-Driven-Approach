{
  "cells": [
    {
      "cell_type": "code",
      "execution_count": null,
      "metadata": {
        "colab": {
          "base_uri": "https://localhost:8080/"
        },
        "id": "S-QM_61p-djs",
        "outputId": "657bccad-2986-45da-ba54-0538b6b01d48"
      },
      "outputs": [
        {
          "name": "stdout",
          "output_type": "stream",
          "text": [
            "Requirement already satisfied: seaborn in /usr/local/lib/python3.11/dist-packages (0.13.2)\n",
            "Requirement already satisfied: numpy!=1.24.0,>=1.20 in /usr/local/lib/python3.11/dist-packages (from seaborn) (1.26.4)\n",
            "Requirement already satisfied: pandas>=1.2 in /usr/local/lib/python3.11/dist-packages (from seaborn) (2.2.2)\n",
            "Requirement already satisfied: matplotlib!=3.6.1,>=3.4 in /usr/local/lib/python3.11/dist-packages (from seaborn) (3.10.0)\n",
            "Requirement already satisfied: contourpy>=1.0.1 in /usr/local/lib/python3.11/dist-packages (from matplotlib!=3.6.1,>=3.4->seaborn) (1.3.1)\n",
            "Requirement already satisfied: cycler>=0.10 in /usr/local/lib/python3.11/dist-packages (from matplotlib!=3.6.1,>=3.4->seaborn) (0.12.1)\n",
            "Requirement already satisfied: fonttools>=4.22.0 in /usr/local/lib/python3.11/dist-packages (from matplotlib!=3.6.1,>=3.4->seaborn) (4.55.8)\n",
            "Requirement already satisfied: kiwisolver>=1.3.1 in /usr/local/lib/python3.11/dist-packages (from matplotlib!=3.6.1,>=3.4->seaborn) (1.4.8)\n",
            "Requirement already satisfied: packaging>=20.0 in /usr/local/lib/python3.11/dist-packages (from matplotlib!=3.6.1,>=3.4->seaborn) (24.2)\n",
            "Requirement already satisfied: pillow>=8 in /usr/local/lib/python3.11/dist-packages (from matplotlib!=3.6.1,>=3.4->seaborn) (11.1.0)\n",
            "Requirement already satisfied: pyparsing>=2.3.1 in /usr/local/lib/python3.11/dist-packages (from matplotlib!=3.6.1,>=3.4->seaborn) (3.2.1)\n",
            "Requirement already satisfied: python-dateutil>=2.7 in /usr/local/lib/python3.11/dist-packages (from matplotlib!=3.6.1,>=3.4->seaborn) (2.8.2)\n",
            "Requirement already satisfied: pytz>=2020.1 in /usr/local/lib/python3.11/dist-packages (from pandas>=1.2->seaborn) (2025.1)\n",
            "Requirement already satisfied: tzdata>=2022.7 in /usr/local/lib/python3.11/dist-packages (from pandas>=1.2->seaborn) (2025.1)\n",
            "Requirement already satisfied: six>=1.5 in /usr/local/lib/python3.11/dist-packages (from python-dateutil>=2.7->matplotlib!=3.6.1,>=3.4->seaborn) (1.17.0)\n"
          ]
        }
      ],
      "source": [
        "%pip install seaborn\n",
        "\n"
      ]
    },
    {
      "cell_type": "code",
      "execution_count": 5,
      "metadata": {
        "id": "SH1ycpq2-gOK"
      },
      "outputs": [],
      "source": [
        "import pandas as pd\n",
        "import numpy as np\n",
        "import matplotlib.pyplot as plt\n",
        "import seaborn as sns\n",
        "from sklearn.linear_model import LinearRegression\n",
        "from sklearn.model_selection import train_test_split\n",
        "from sklearn.metrics import mean_absolute_error, mean_squared_error"
      ]
    },
    {
      "cell_type": "code",
      "execution_count": null,
      "metadata": {
        "colab": {
          "base_uri": "https://localhost:8080/",
          "height": 1000
        },
        "id": "E9f0lswA-mTt",
        "outputId": "32c683ab-6405-468f-c7a3-9826de40a170"
      },
      "outputs": [],
      "source": [
        "from google.colab import files\n",
        "files.upload()  # Allows you to manually upload the file\n"
      ]
    },
    {
      "cell_type": "code",
      "execution_count": 7,
      "metadata": {
        "id": "DZ3D9ruGaIL8"
      },
      "outputs": [],
      "source": [
        "df = pd.read_csv('Education_Sector_Indicators.csv')"
      ]
    },
    {
      "cell_type": "code",
      "execution_count": 8,
      "metadata": {
        "colab": {
          "base_uri": "https://localhost:8080/"
        },
        "id": "tMz_VKdt_XXi",
        "outputId": "2602fc38-f01a-4526-e65d-7385f419e607"
      },
      "outputs": [
        {
          "data": {
            "text/plain": [
              "195"
            ]
          },
          "execution_count": 8,
          "metadata": {},
          "output_type": "execute_result"
        }
      ],
      "source": [
        "df[\"Indicator Code\"].nunique()"
      ]
    },
    {
      "cell_type": "code",
      "execution_count": 9,
      "metadata": {
        "colab": {
          "base_uri": "https://localhost:8080/"
        },
        "id": "PhXOecIgaRBn",
        "outputId": "26fdd237-2c56-4951-ac5a-da439cca77a6"
      },
      "outputs": [
        {
          "data": {
            "text/plain": [
              "array(['SE.LPV.PRIM.BMP.FE', 'SE.LPV.PRIM.BMP.MA', 'SE.LPV.PRIM.OOS.FE',\n",
              "       'SE.LPV.PRIM.OOS.MA', 'SE.PRE.ENRL', 'SE.PRE.ENRL.FE',\n",
              "       'SE.PRE.PRIV.ZS', 'SE.PRE.TCHR', 'SE.PRE.TCHR.FE',\n",
              "       'SE.PRE.TCHR.FE.ZS', 'SE.PRM.ENRL.FE', 'SE.PRM.TCHR.FE',\n",
              "       'SE.SEC.DURS.LO', 'SE.SEC.DURS.UP', 'SE.SEC.ENRL.FE',\n",
              "       'SE.SEC.ENRL.VO.ZS', 'SE.SEC.ENRR.LO', 'SE.SEC.ENRR.LO.FE',\n",
              "       'SE.SEC.ENRR.LO.MA', 'SE.SEC.ENRR.UP', 'SE.SEC.ENRR.UP.FE',\n",
              "       'SE.SEC.ENRR.UP.MA', 'SE.TER.CMPL.FE.ZS', 'SE.TER.CMPL.MA.ZS',\n",
              "       'SE.TER.CMPL.ZS', 'SE.TER.ENRL', 'SE.TER.ENRL.FE',\n",
              "       'SE.TER.GRAD.AG.ZS', 'SE.TER.GRAD.ED.ZS', 'SE.TER.GRAD.EN.ZS',\n",
              "       'SE.TER.GRAD.HL.ZS', 'SE.TER.GRAD.HU.ZS', 'SE.TER.GRAD.OT.ZS',\n",
              "       'SE.TER.GRAD.SC.ZS', 'SE.TER.GRAD.SS.ZS', 'SE.TER.GRAD.SV.ZS',\n",
              "       'SE.TER.PRIV.ZS', 'SE.TER.TCHR', 'SE.TER.TCHR.FE', 'SE.TOT.ENRR',\n",
              "       'SE.ADT.1524.LT.FE.ZS', 'SE.ADT.1524.LT.FM.ZS',\n",
              "       'SE.ADT.1524.LT.MA.ZS', 'SE.ADT.1524.LT.ZS', 'SE.ADT.LITR.FE.ZS',\n",
              "       'SE.ADT.LITR.MA.ZS', 'SE.ADT.LITR.ZS', 'SE.COM.DURS',\n",
              "       'SE.ENR.PRIM.FM.ZS', 'SE.ENR.PRSC.FM.ZS', 'SE.ENR.SECO.FM.ZS',\n",
              "       'SE.ENR.TERT.FM.ZS', 'SE.LPV.PRIM.FE', 'SE.LPV.PRIM.MA',\n",
              "       'SE.PRE.DURS', 'SE.PRE.ENRL.TC.ZS', 'SE.PRE.ENRR',\n",
              "       'SE.PRE.ENRR.FE', 'SE.PRE.ENRR.MA', 'SE.PRE.TCAQ.FE.ZS',\n",
              "       'SE.PRE.TCAQ.MA.ZS', 'SE.PRE.TCAQ.ZS', 'SE.PRM.AGES',\n",
              "       'SE.PRM.CMPT.FE.ZS', 'SE.PRM.CMPT.MA.ZS', 'SE.PRM.CMPT.ZS',\n",
              "       'SE.PRM.CUAT.FE.ZS', 'SE.PRM.CUAT.MA.ZS', 'SE.PRM.CUAT.ZS',\n",
              "       'SE.PRM.DURS', 'SE.PRM.ENRL', 'SE.PRM.ENRL.FE.ZS',\n",
              "       'SE.PRM.ENRL.TC.ZS', 'SE.PRM.ENRR', 'SE.PRM.ENRR.FE',\n",
              "       'SE.PRM.ENRR.MA', 'SE.PRM.GINT.FE.ZS', 'SE.PRM.GINT.MA.ZS',\n",
              "       'SE.PRM.GINT.ZS', 'SE.PRM.NENR', 'SE.PRM.NENR.FE',\n",
              "       'SE.PRM.NENR.MA', 'SE.PRM.NINT.FE.ZS', 'SE.PRM.NINT.MA.ZS',\n",
              "       'SE.PRM.NINT.ZS', 'SE.PRM.OENR.FE.ZS', 'SE.PRM.OENR.MA.ZS',\n",
              "       'SE.PRM.OENR.ZS', 'SE.PRM.PRIV.ZS', 'SE.PRM.PRS5.FE.ZS',\n",
              "       'SE.PRM.PRS5.MA.ZS', 'SE.PRM.PRS5.ZS', 'SE.PRM.PRSL.FE.ZS',\n",
              "       'SE.PRM.PRSL.MA.ZS', 'SE.PRM.PRSL.ZS', 'SE.PRM.REPT.FE.ZS',\n",
              "       'SE.PRM.REPT.MA.ZS', 'SE.PRM.REPT.ZS', 'SE.PRM.TCAQ.FE.ZS',\n",
              "       'SE.PRM.TCAQ.MA.ZS', 'SE.PRM.TCAQ.ZS', 'SE.PRM.TCHR',\n",
              "       'SE.PRM.TCHR.FE.ZS', 'SE.PRM.TENR', 'SE.PRM.TENR.FE',\n",
              "       'SE.PRM.TENR.MA', 'SE.PRM.UNER', 'SE.PRM.UNER.FE',\n",
              "       'SE.PRM.UNER.FE.ZS', 'SE.PRM.UNER.MA', 'SE.PRM.UNER.MA.ZS',\n",
              "       'SE.PRM.UNER.ZS', 'SE.SEC.AGES', 'SE.SEC.CMPT.LO.FE.ZS',\n",
              "       'SE.SEC.CMPT.LO.MA.ZS', 'SE.SEC.CMPT.LO.ZS',\n",
              "       'SE.SEC.CUAT.LO.FE.ZS', 'SE.SEC.CUAT.LO.MA.ZS',\n",
              "       'SE.SEC.CUAT.LO.ZS', 'SE.SEC.CUAT.PO.FE.ZS',\n",
              "       'SE.SEC.CUAT.PO.MA.ZS', 'SE.SEC.CUAT.PO.ZS',\n",
              "       'SE.SEC.CUAT.UP.FE.ZS', 'SE.SEC.CUAT.UP.MA.ZS',\n",
              "       'SE.SEC.CUAT.UP.ZS', 'SE.SEC.DURS', 'SE.SEC.ENRL',\n",
              "       'SE.SEC.ENRL.FE.ZS', 'SE.SEC.ENRL.GC', 'SE.SEC.ENRL.GC.FE.ZS',\n",
              "       'SE.SEC.ENRL.LO.TC.ZS', 'SE.SEC.ENRL.TC.ZS',\n",
              "       'SE.SEC.ENRL.UP.TC.ZS', 'SE.SEC.ENRL.VO', 'SE.SEC.ENRL.VO.FE.ZS',\n",
              "       'SE.SEC.ENRR', 'SE.SEC.ENRR.FE', 'SE.SEC.ENRR.MA', 'SE.SEC.NENR',\n",
              "       'SE.SEC.NENR.FE', 'SE.SEC.NENR.MA', 'SE.SEC.PRIV.ZS',\n",
              "       'SE.SEC.PROG.FE.ZS', 'SE.SEC.PROG.MA.ZS', 'SE.SEC.PROG.ZS',\n",
              "       'SE.SEC.TCHR', 'SE.SEC.TCHR.FE', 'SE.SEC.TCHR.FE.ZS',\n",
              "       'SE.SEC.UNER.LO.FE.ZS', 'SE.SEC.UNER.LO.MA.ZS',\n",
              "       'SE.SEC.UNER.LO.ZS', 'SE.TER.CUAT.BA.FE.ZS',\n",
              "       'SE.TER.CUAT.BA.MA.ZS', 'SE.TER.CUAT.BA.ZS',\n",
              "       'SE.TER.CUAT.DO.FE.ZS', 'SE.TER.CUAT.DO.MA.ZS',\n",
              "       'SE.TER.CUAT.DO.ZS', 'SE.TER.CUAT.MS.FE.ZS',\n",
              "       'SE.TER.CUAT.MS.MA.ZS', 'SE.TER.CUAT.MS.ZS',\n",
              "       'SE.TER.CUAT.ST.FE.ZS', 'SE.TER.CUAT.ST.MA.ZS',\n",
              "       'SE.TER.CUAT.ST.ZS', 'SE.TER.ENRL.TC.ZS', 'SE.TER.ENRR',\n",
              "       'SE.TER.ENRR.FE', 'SE.TER.ENRR.MA', 'SE.TER.TCHR.FE.ZS',\n",
              "       'SE.XPD.CPRM.ZS', 'SE.XPD.CSEC.ZS', 'SE.XPD.CTER.ZS',\n",
              "       'SE.XPD.CTOT.ZS', 'SE.XPD.PRIM.PC.ZS', 'SE.XPD.PRIM.ZS',\n",
              "       'SE.XPD.SECO.PC.ZS', 'SE.XPD.SECO.ZS', 'SE.XPD.TERT.ZS',\n",
              "       'SE.XPD.TOTL.GB.ZS', 'SE.XPD.TOTL.GD.ZS', 'SE.PRM.CMPL.FE.ZS',\n",
              "       'SE.PRM.CMPL.MA.ZS', 'SE.PRM.CMPL.ZS', 'SE.SEC.ENRL.FE.VO.ZS',\n",
              "       'SE.SEC.ENRL.MA.VO.ZS', 'SE.TER.GRAD.FE.AG.ZS',\n",
              "       'SE.TER.GRAD.FE.ED.ZS', 'SE.TER.GRAD.FE.EN.ZS',\n",
              "       'SE.TER.GRAD.FE.HL.ZS', 'SE.TER.GRAD.FE.HU.ZS',\n",
              "       'SE.TER.GRAD.FE.OT.ZS', 'SE.TER.GRAD.FE.SC.ZS',\n",
              "       'SE.TER.GRAD.FE.SI.ZS', 'SE.TER.GRAD.FE.SS.ZS',\n",
              "       'SE.TER.GRAD.FE.SV.ZS', 'SE.XPD.PTCH.ZS'], dtype=object)"
            ]
          },
          "execution_count": 9,
          "metadata": {},
          "output_type": "execute_result"
        }
      ],
      "source": [
        "df[\"Indicator Code\"].unique()\n"
      ]
    },
    {
      "cell_type": "code",
      "execution_count": 10,
      "metadata": {
        "colab": {
          "base_uri": "https://localhost:8080/"
        },
        "id": "wNTOGI2zIfy-",
        "outputId": "197a0c4d-d0f9-4325-8545-000f4a834a29"
      },
      "outputs": [
        {
          "name": "stdout",
          "output_type": "stream",
          "text": [
            "<class 'pandas.core.frame.DataFrame'>\n",
            "Index: 27 entries, 487 to 513\n",
            "Data columns (total 6 columns):\n",
            " #   Column          Non-Null Count  Dtype  \n",
            "---  ------          --------------  -----  \n",
            " 0   Country Name    27 non-null     object \n",
            " 1   Country ISO3    27 non-null     object \n",
            " 2   Year            27 non-null     float64\n",
            " 3   Indicator Name  27 non-null     object \n",
            " 4   Indicator Code  27 non-null     object \n",
            " 5   Value           27 non-null     float64\n",
            "dtypes: float64(2), object(4)\n",
            "memory usage: 1.5+ KB\n"
          ]
        }
      ],
      "source": [
        "\n",
        "df_filtered = df[df[\"Indicator Code\"].isin([\"SE.TER.ENRL\"])]\n",
        "# df_filtered\n",
        "df_filtered.info()\n",
        "\n"
      ]
    },
    {
      "cell_type": "code",
      "execution_count": 11,
      "metadata": {
        "colab": {
          "base_uri": "https://localhost:8080/",
          "height": 530
        },
        "id": "gyMJPYIhhTp_",
        "outputId": "442e2bd6-5a1f-4f70-f927-1e0ae03a2778"
      },
      "outputs": [
        {
          "data": {
            "text/plain": [
              "<seaborn.axisgrid.PairGrid at 0x7d56fed37dd0>"
            ]
          },
          "execution_count": 11,
          "metadata": {},
          "output_type": "execute_result"
        },
        {
          "data": {
            "image/png": "[encoded data removed]",
            "text/plain": [
              "<Figure size 500x500 with 6 Axes>"
            ]
          },
          "metadata": {},
          "output_type": "display_data"
        }
      ],
      "source": [
        "# df_higher_edu\n",
        "sns.pairplot(df_filtered,\n",
        "             kind='scatter',\n",
        "             plot_kws={'alpha':0.4},\n",
        "             diag_kws={'alpha':0.55, 'bins':40})"
      ]
    },
    {
      "cell_type": "code",
      "execution_count": 12,
      "metadata": {
        "colab": {
          "base_uri": "https://localhost:8080/",
          "height": 523
        },
        "id": "ybltsOvnhiQ3",
        "outputId": "e93ffdb8-661f-400b-e8f3-ca1a2e6d8ee6"
      },
      "outputs": [
        {
          "data": {
            "text/plain": [
              "<seaborn.axisgrid.FacetGrid at 0x7d56fad92910>"
            ]
          },
          "execution_count": 12,
          "metadata": {},
          "output_type": "execute_result"
        },
        {
          "data": {
            "image/png": "[encoded data removed]",
            "text/plain": [
              "<Figure size 500x500 with 1 Axes>"
            ]
          },
          "metadata": {},
          "output_type": "display_data"
        }
      ],
      "source": [
        "sns.lmplot(x='Year',\n",
        "           y='Value',\n",
        "           data = df_filtered,\n",
        "           scatter_kws={'alpha':0.3})"
      ]
    },
    {
      "cell_type": "code",
      "execution_count": 13,
      "metadata": {
        "id": "M4yWl9jdhx7c"
      },
      "outputs": [],
      "source": [
        "# df_higher_edu = df_higher_edu.dropna(subset=['Year', 'Value'])\n",
        "df_filtered = df_filtered.dropna(subset=['Year', 'Value'])\n"
      ]
    },
    {
      "cell_type": "code",
      "execution_count": 14,
      "metadata": {
        "id": "V6NObRmdvMph"
      },
      "outputs": [],
      "source": [
        "x=df_filtered['Year'].to_numpy().reshape(-1, 1) # Reshape x to be a 2D array\n",
        "y=df_filtered['Value'].to_numpy().reshape(-1,1) # Reshape x to be a 2D array"
      ]
    },
    {
      "cell_type": "code",
      "execution_count": 15,
      "metadata": {
        "colab": {
          "base_uri": "https://localhost:8080/",
          "height": 211
        },
        "id": "LwKYpto_ya7S",
        "outputId": "6345d1cb-865f-4997-bf32-2db885bfc177"
      },
      "outputs": [
        {
          "ename": "NameError",
          "evalue": "name 'x_train' is not defined",
          "output_type": "error",
          "traceback": [
            "\u001b[0;31m---------------------------------------------------------------------------\u001b[0m",
            "\u001b[0;31mNameError\u001b[0m                                 Traceback (most recent call last)",
            "\u001b[0;32m<ipython-input-15-9bb6d5f83b1f>\u001b[0m in \u001b[0;36m<cell line: 0>\u001b[0;34m()\u001b[0m\n\u001b[1;32m      1\u001b[0m \u001b[0;32mfrom\u001b[0m \u001b[0msklearn\u001b[0m\u001b[0;34m.\u001b[0m\u001b[0mpreprocessing\u001b[0m \u001b[0;32mimport\u001b[0m \u001b[0mPolynomialFeatures\u001b[0m\u001b[0;34m\u001b[0m\u001b[0;34m\u001b[0m\u001b[0m\n\u001b[1;32m      2\u001b[0m \u001b[0mpoly\u001b[0m \u001b[0;34m=\u001b[0m \u001b[0mPolynomialFeatures\u001b[0m\u001b[0;34m(\u001b[0m\u001b[0mdegree\u001b[0m\u001b[0;34m=\u001b[0m\u001b[0;36m3\u001b[0m\u001b[0;34m)\u001b[0m  \u001b[0;31m# يمكن تجربة 2 أو 3 حسب الدقة\u001b[0m\u001b[0;34m\u001b[0m\u001b[0;34m\u001b[0m\u001b[0m\n\u001b[0;32m----> 3\u001b[0;31m \u001b[0mX_poly\u001b[0m \u001b[0;34m=\u001b[0m \u001b[0mpoly\u001b[0m\u001b[0;34m.\u001b[0m\u001b[0mfit_transform\u001b[0m\u001b[0;34m(\u001b[0m\u001b[0mx_train\u001b[0m\u001b[0;34m)\u001b[0m\u001b[0;34m\u001b[0m\u001b[0;34m\u001b[0m\u001b[0m\n\u001b[0m\u001b[1;32m      4\u001b[0m \u001b[0mmodel_poly\u001b[0m \u001b[0;34m=\u001b[0m \u001b[0mLinearRegression\u001b[0m\u001b[0;34m(\u001b[0m\u001b[0;34m)\u001b[0m\u001b[0;34m\u001b[0m\u001b[0;34m\u001b[0m\u001b[0m\n\u001b[1;32m      5\u001b[0m \u001b[0mmodel_poly\u001b[0m\u001b[0;34m.\u001b[0m\u001b[0mfit\u001b[0m\u001b[0;34m(\u001b[0m\u001b[0mX_poly\u001b[0m\u001b[0;34m,\u001b[0m \u001b[0my_train\u001b[0m\u001b[0;34m)\u001b[0m\u001b[0;34m\u001b[0m\u001b[0;34m\u001b[0m\u001b[0m\n",
            "\u001b[0;31mNameError\u001b[0m: name 'x_train' is not defined"
          ]
        }
      ],
      "source": [
        "from sklearn.preprocessing import PolynomialFeatures\n",
        "poly = PolynomialFeatures(degree=3)  # يمكن تجربة 2 أو 3 حسب الدقة\n",
        "X_poly = poly.fit_transform(x_train)\n",
        "model_poly = LinearRegression()\n",
        "model_poly.fit(X_poly, y_train)\n"
      ]
    },
    {
      "cell_type": "code",
      "execution_count": 17,
      "metadata": {
        "colab": {
          "base_uri": "https://localhost:8080/",
          "height": 80
        },
        "id": "lietEWP2U25p",
        "outputId": "ba3fa1f7-ab8e-4778-d66d-a85387c51c95"
      },
      "outputs": [
        {
          "data": {
            "text/html": [
              "<style>#sk-container-id-1 {\n",
              "  /* Definition of color scheme common for light and dark mode */\n",
              "  --sklearn-color-text: #000;\n",
              "  --sklearn-color-text-muted: #666;\n",
              "  --sklearn-color-line: gray;\n",
              "  /* Definition of color scheme for unfitted estimators */\n",
              "  --sklearn-color-unfitted-level-0: #fff5e6;\n",
              "  --sklearn-color-unfitted-level-1: #f6e4d2;\n",
              "  --sklearn-color-unfitted-level-2: #ffe0b3;\n",
              "  --sklearn-color-unfitted-level-3: chocolate;\n",
              "  /* Definition of color scheme for fitted estimators */\n",
              "  --sklearn-color-fitted-level-0: #f0f8ff;\n",
              "  --sklearn-color-fitted-level-1: #d4ebff;\n",
              "  --sklearn-color-fitted-level-2: #b3dbfd;\n",
              "  --sklearn-color-fitted-level-3: cornflowerblue;\n",
              "\n",
              "  /* Specific color for light theme */\n",
              "  --sklearn-color-text-on-default-background: var(--sg-text-color, var(--theme-code-foreground, var(--jp-content-font-color1, black)));\n",
              "  --sklearn-color-background: var(--sg-background-color, var(--theme-background, var(--jp-layout-color0, white)));\n",
              "  --sklearn-color-border-box: var(--sg-text-color, var(--theme-code-foreground, var(--jp-content-font-color1, black)));\n",
              "  --sklearn-color-icon: #696969;\n",
              "\n",
              "  @media (prefers-color-scheme: dark) {\n",
              "    /* Redefinition of color scheme for dark theme */\n",
              "    --sklearn-color-text-on-default-background: var(--sg-text-color, var(--theme-code-foreground, var(--jp-content-font-color1, white)));\n",
              "    --sklearn-color-background: var(--sg-background-color, var(--theme-background, var(--jp-layout-color0, #111)));\n",
              "    --sklearn-color-border-box: var(--sg-text-color, var(--theme-code-foreground, var(--jp-content-font-color1, white)));\n",
              "    --sklearn-color-icon: #878787;\n",
              "  }\n",
              "}\n",
              "\n",
              "#sk-container-id-1 {\n",
              "  color: var(--sklearn-color-text);\n",
              "}\n",
              "\n",
              "#sk-container-id-1 pre {\n",
              "  padding: 0;\n",
              "}\n",
              "\n",
              "#sk-container-id-1 input.sk-hidden--visually {\n",
              "  border: 0;\n",
              "  clip: rect(1px 1px 1px 1px);\n",
              "  clip: rect(1px, 1px, 1px, 1px);\n",
              "  height: 1px;\n",
              "  margin: -1px;\n",
              "  overflow: hidden;\n",
              "  padding: 0;\n",
              "  position: absolute;\n",
              "  width: 1px;\n",
              "}\n",
              "\n",
              "#sk-container-id-1 div.sk-dashed-wrapped {\n",
              "  border: 1px dashed var(--sklearn-color-line);\n",
              "  margin: 0 0.4em 0.5em 0.4em;\n",
              "  box-sizing: border-box;\n",
              "  padding-bottom: 0.4em;\n",
              "  background-color: var(--sklearn-color-background);\n",
              "}\n",
              "\n",
              "#sk-container-id-1 div.sk-container {\n",
              "  /* jupyter's `normalize.less` sets `[hidden] { display: none; }`\n",
              "     but bootstrap.min.css set `[hidden] { display: none !important; }`\n",
              "     so we also need the `!important` here to be able to override the\n",
              "     default hidden behavior on the sphinx rendered scikit-learn.org.\n",
              "     See: https://github.com/scikit-learn/scikit-learn/issues/21755 */\n",
              "  display: inline-block !important;\n",
              "  position: relative;\n",
              "}\n",
              "\n",
              "#sk-container-id-1 div.sk-text-repr-fallback {\n",
              "  display: none;\n",
              "}\n",
              "\n",
              "div.sk-parallel-item,\n",
              "div.sk-serial,\n",
              "div.sk-item {\n",
              "  /* draw centered vertical line to link estimators */\n",
              "  background-image: linear-gradient(var(--sklearn-color-text-on-default-background), var(--sklearn-color-text-on-default-background));\n",
              "  background-size: 2px 100%;\n",
              "  background-repeat: no-repeat;\n",
              "  background-position: center center;\n",
              "}\n",
              "\n",
              "/* Parallel-specific style estimator block */\n",
              "\n",
              "#sk-container-id-1 div.sk-parallel-item::after {\n",
              "  content: \"\";\n",
              "  width: 100%;\n",
              "  border-bottom: 2px solid var(--sklearn-color-text-on-default-background);\n",
              "  flex-grow: 1;\n",
              "}\n",
              "\n",
              "#sk-container-id-1 div.sk-parallel {\n",
              "  display: flex;\n",
              "  align-items: stretch;\n",
              "  justify-content: center;\n",
              "  background-color: var(--sklearn-color-background);\n",
              "  position: relative;\n",
              "}\n",
              "\n",
              "#sk-container-id-1 div.sk-parallel-item {\n",
              "  display: flex;\n",
              "  flex-direction: column;\n",
              "}\n",
              "\n",
              "#sk-container-id-1 div.sk-parallel-item:first-child::after {\n",
              "  align-self: flex-end;\n",
              "  width: 50%;\n",
              "}\n",
              "\n",
              "#sk-container-id-1 div.sk-parallel-item:last-child::after {\n",
              "  align-self: flex-start;\n",
              "  width: 50%;\n",
              "}\n",
              "\n",
              "#sk-container-id-1 div.sk-parallel-item:only-child::after {\n",
              "  width: 0;\n",
              "}\n",
              "\n",
              "/* Serial-specific style estimator block */\n",
              "\n",
              "#sk-container-id-1 div.sk-serial {\n",
              "  display: flex;\n",
              "  flex-direction: column;\n",
              "  align-items: center;\n",
              "  background-color: var(--sklearn-color-background);\n",
              "  padding-right: 1em;\n",
              "  padding-left: 1em;\n",
              "}\n",
              "\n",
              "\n",
              "/* Toggleable style: style used for estimator/Pipeline/ColumnTransformer box that is\n",
              "clickable and can be expanded/collapsed.\n",
              "- Pipeline and ColumnTransformer use this feature and define the default style\n",
              "- Estimators will overwrite some part of the style using the `sk-estimator` class\n",
              "*/\n",
              "\n",
              "/* Pipeline and ColumnTransformer style (default) */\n",
              "\n",
              "#sk-container-id-1 div.sk-toggleable {\n",
              "  /* Default theme specific background. It is overwritten whether we have a\n",
              "  specific estimator or a Pipeline/ColumnTransformer */\n",
              "  background-color: var(--sklearn-color-background);\n",
              "}\n",
              "\n",
              "/* Toggleable label */\n",
              "#sk-container-id-1 label.sk-toggleable__label {\n",
              "  cursor: pointer;\n",
              "  display: flex;\n",
              "  width: 100%;\n",
              "  margin-bottom: 0;\n",
              "  padding: 0.5em;\n",
              "  box-sizing: border-box;\n",
              "  text-align: center;\n",
              "  align-items: start;\n",
              "  justify-content: space-between;\n",
              "  gap: 0.5em;\n",
              "}\n",
              "\n",
              "#sk-container-id-1 label.sk-toggleable__label .caption {\n",
              "  font-size: 0.6rem;\n",
              "  font-weight: lighter;\n",
              "  color: var(--sklearn-color-text-muted);\n",
              "}\n",
              "\n",
              "#sk-container-id-1 label.sk-toggleable__label-arrow:before {\n",
              "  /* Arrow on the left of the label */\n",
              "  content: \"▸\";\n",
              "  float: left;\n",
              "  margin-right: 0.25em;\n",
              "  color: var(--sklearn-color-icon);\n",
              "}\n",
              "\n",
              "#sk-container-id-1 label.sk-toggleable__label-arrow:hover:before {\n",
              "  color: var(--sklearn-color-text);\n",
              "}\n",
              "\n",
              "/* Toggleable content - dropdown */\n",
              "\n",
              "#sk-container-id-1 div.sk-toggleable__content {\n",
              "  max-height: 0;\n",
              "  max-width: 0;\n",
              "  overflow: hidden;\n",
              "  text-align: left;\n",
              "  /* unfitted */\n",
              "  background-color: var(--sklearn-color-unfitted-level-0);\n",
              "}\n",
              "\n",
              "#sk-container-id-1 div.sk-toggleable__content.fitted {\n",
              "  /* fitted */\n",
              "  background-color: var(--sklearn-color-fitted-level-0);\n",
              "}\n",
              "\n",
              "#sk-container-id-1 div.sk-toggleable__content pre {\n",
              "  margin: 0.2em;\n",
              "  border-radius: 0.25em;\n",
              "  color: var(--sklearn-color-text);\n",
              "  /* unfitted */\n",
              "  background-color: var(--sklearn-color-unfitted-level-0);\n",
              "}\n",
              "\n",
              "#sk-container-id-1 div.sk-toggleable__content.fitted pre {\n",
              "  /* unfitted */\n",
              "  background-color: var(--sklearn-color-fitted-level-0);\n",
              "}\n",
              "\n",
              "#sk-container-id-1 input.sk-toggleable__control:checked~div.sk-toggleable__content {\n",
              "  /* Expand drop-down */\n",
              "  max-height: 200px;\n",
              "  max-width: 100%;\n",
              "  overflow: auto;\n",
              "}\n",
              "\n",
              "#sk-container-id-1 input.sk-toggleable__control:checked~label.sk-toggleable__label-arrow:before {\n",
              "  content: \"▾\";\n",
              "}\n",
              "\n",
              "/* Pipeline/ColumnTransformer-specific style */\n",
              "\n",
              "#sk-container-id-1 div.sk-label input.sk-toggleable__control:checked~label.sk-toggleable__label {\n",
              "  color: var(--sklearn-color-text);\n",
              "  background-color: var(--sklearn-color-unfitted-level-2);\n",
              "}\n",
              "\n",
              "#sk-container-id-1 div.sk-label.fitted input.sk-toggleable__control:checked~label.sk-toggleable__label {\n",
              "  background-color: var(--sklearn-color-fitted-level-2);\n",
              "}\n",
              "\n",
              "/* Estimator-specific style */\n",
              "\n",
              "/* Colorize estimator box */\n",
              "#sk-container-id-1 div.sk-estimator input.sk-toggleable__control:checked~label.sk-toggleable__label {\n",
              "  /* unfitted */\n",
              "  background-color: var(--sklearn-color-unfitted-level-2);\n",
              "}\n",
              "\n",
              "#sk-container-id-1 div.sk-estimator.fitted input.sk-toggleable__control:checked~label.sk-toggleable__label {\n",
              "  /* fitted */\n",
              "  background-color: var(--sklearn-color-fitted-level-2);\n",
              "}\n",
              "\n",
              "#sk-container-id-1 div.sk-label label.sk-toggleable__label,\n",
              "#sk-container-id-1 div.sk-label label {\n",
              "  /* The background is the default theme color */\n",
              "  color: var(--sklearn-color-text-on-default-background);\n",
              "}\n",
              "\n",
              "/* On hover, darken the color of the background */\n",
              "#sk-container-id-1 div.sk-label:hover label.sk-toggleable__label {\n",
              "  color: var(--sklearn-color-text);\n",
              "  background-color: var(--sklearn-color-unfitted-level-2);\n",
              "}\n",
              "\n",
              "/* Label box, darken color on hover, fitted */\n",
              "#sk-container-id-1 div.sk-label.fitted:hover label.sk-toggleable__label.fitted {\n",
              "  color: var(--sklearn-color-text);\n",
              "  background-color: var(--sklearn-color-fitted-level-2);\n",
              "}\n",
              "\n",
              "/* Estimator label */\n",
              "\n",
              "#sk-container-id-1 div.sk-label label {\n",
              "  font-family: monospace;\n",
              "  font-weight: bold;\n",
              "  display: inline-block;\n",
              "  line-height: 1.2em;\n",
              "}\n",
              "\n",
              "#sk-container-id-1 div.sk-label-container {\n",
              "  text-align: center;\n",
              "}\n",
              "\n",
              "/* Estimator-specific */\n",
              "#sk-container-id-1 div.sk-estimator {\n",
              "  font-family: monospace;\n",
              "  border: 1px dotted var(--sklearn-color-border-box);\n",
              "  border-radius: 0.25em;\n",
              "  box-sizing: border-box;\n",
              "  margin-bottom: 0.5em;\n",
              "  /* unfitted */\n",
              "  background-color: var(--sklearn-color-unfitted-level-0);\n",
              "}\n",
              "\n",
              "#sk-container-id-1 div.sk-estimator.fitted {\n",
              "  /* fitted */\n",
              "  background-color: var(--sklearn-color-fitted-level-0);\n",
              "}\n",
              "\n",
              "/* on hover */\n",
              "#sk-container-id-1 div.sk-estimator:hover {\n",
              "  /* unfitted */\n",
              "  background-color: var(--sklearn-color-unfitted-level-2);\n",
              "}\n",
              "\n",
              "#sk-container-id-1 div.sk-estimator.fitted:hover {\n",
              "  /* fitted */\n",
              "  background-color: var(--sklearn-color-fitted-level-2);\n",
              "}\n",
              "\n",
              "/* Specification for estimator info (e.g. \"i\" and \"?\") */\n",
              "\n",
              "/* Common style for \"i\" and \"?\" */\n",
              "\n",
              ".sk-estimator-doc-link,\n",
              "a:link.sk-estimator-doc-link,\n",
              "a:visited.sk-estimator-doc-link {\n",
              "  float: right;\n",
              "  font-size: smaller;\n",
              "  line-height: 1em;\n",
              "  font-family: monospace;\n",
              "  background-color: var(--sklearn-color-background);\n",
              "  border-radius: 1em;\n",
              "  height: 1em;\n",
              "  width: 1em;\n",
              "  text-decoration: none !important;\n",
              "  margin-left: 0.5em;\n",
              "  text-align: center;\n",
              "  /* unfitted */\n",
              "  border: var(--sklearn-color-unfitted-level-1) 1pt solid;\n",
              "  color: var(--sklearn-color-unfitted-level-1);\n",
              "}\n",
              "\n",
              ".sk-estimator-doc-link.fitted,\n",
              "a:link.sk-estimator-doc-link.fitted,\n",
              "a:visited.sk-estimator-doc-link.fitted {\n",
              "  /* fitted */\n",
              "  border: var(--sklearn-color-fitted-level-1) 1pt solid;\n",
              "  color: var(--sklearn-color-fitted-level-1);\n",
              "}\n",
              "\n",
              "/* On hover */\n",
              "div.sk-estimator:hover .sk-estimator-doc-link:hover,\n",
              ".sk-estimator-doc-link:hover,\n",
              "div.sk-label-container:hover .sk-estimator-doc-link:hover,\n",
              ".sk-estimator-doc-link:hover {\n",
              "  /* unfitted */\n",
              "  background-color: var(--sklearn-color-unfitted-level-3);\n",
              "  color: var(--sklearn-color-background);\n",
              "  text-decoration: none;\n",
              "}\n",
              "\n",
              "div.sk-estimator.fitted:hover .sk-estimator-doc-link.fitted:hover,\n",
              ".sk-estimator-doc-link.fitted:hover,\n",
              "div.sk-label-container:hover .sk-estimator-doc-link.fitted:hover,\n",
              ".sk-estimator-doc-link.fitted:hover {\n",
              "  /* fitted */\n",
              "  background-color: var(--sklearn-color-fitted-level-3);\n",
              "  color: var(--sklearn-color-background);\n",
              "  text-decoration: none;\n",
              "}\n",
              "\n",
              "/* Span, style for the box shown on hovering the info icon */\n",
              ".sk-estimator-doc-link span {\n",
              "  display: none;\n",
              "  z-index: 9999;\n",
              "  position: relative;\n",
              "  font-weight: normal;\n",
              "  right: .2ex;\n",
              "  padding: .5ex;\n",
              "  margin: .5ex;\n",
              "  width: min-content;\n",
              "  min-width: 20ex;\n",
              "  max-width: 50ex;\n",
              "  color: var(--sklearn-color-text);\n",
              "  box-shadow: 2pt 2pt 4pt #999;\n",
              "  /* unfitted */\n",
              "  background: var(--sklearn-color-unfitted-level-0);\n",
              "  border: .5pt solid var(--sklearn-color-unfitted-level-3);\n",
              "}\n",
              "\n",
              ".sk-estimator-doc-link.fitted span {\n",
              "  /* fitted */\n",
              "  background: var(--sklearn-color-fitted-level-0);\n",
              "  border: var(--sklearn-color-fitted-level-3);\n",
              "}\n",
              "\n",
              ".sk-estimator-doc-link:hover span {\n",
              "  display: block;\n",
              "}\n",
              "\n",
              "/* \"?\"-specific style due to the `<a>` HTML tag */\n",
              "\n",
              "#sk-container-id-1 a.estimator_doc_link {\n",
              "  float: right;\n",
              "  font-size: 1rem;\n",
              "  line-height: 1em;\n",
              "  font-family: monospace;\n",
              "  background-color: var(--sklearn-color-background);\n",
              "  border-radius: 1rem;\n",
              "  height: 1rem;\n",
              "  width: 1rem;\n",
              "  text-decoration: none;\n",
              "  /* unfitted */\n",
              "  color: var(--sklearn-color-unfitted-level-1);\n",
              "  border: var(--sklearn-color-unfitted-level-1) 1pt solid;\n",
              "}\n",
              "\n",
              "#sk-container-id-1 a.estimator_doc_link.fitted {\n",
              "  /* fitted */\n",
              "  border: var(--sklearn-color-fitted-level-1) 1pt solid;\n",
              "  color: var(--sklearn-color-fitted-level-1);\n",
              "}\n",
              "\n",
              "/* On hover */\n",
              "#sk-container-id-1 a.estimator_doc_link:hover {\n",
              "  /* unfitted */\n",
              "  background-color: var(--sklearn-color-unfitted-level-3);\n",
              "  color: var(--sklearn-color-background);\n",
              "  text-decoration: none;\n",
              "}\n",
              "\n",
              "#sk-container-id-1 a.estimator_doc_link.fitted:hover {\n",
              "  /* fitted */\n",
              "  background-color: var(--sklearn-color-fitted-level-3);\n",
              "}\n",
              "</style><div id=\"sk-container-id-1\" class=\"sk-top-container\"><div class=\"sk-text-repr-fallback\"><pre>LinearRegression()</pre><b>In a Jupyter environment, please rerun this cell to show the HTML representation or trust the notebook. <br />On GitHub, the HTML representation is unable to render, please try loading this page with nbviewer.org.</b></div><div class=\"sk-container\" hidden><div class=\"sk-item\"><div class=\"sk-estimator fitted sk-toggleable\"><input class=\"sk-toggleable__control sk-hidden--visually\" id=\"sk-estimator-id-1\" type=\"checkbox\" checked><label for=\"sk-estimator-id-1\" class=\"sk-toggleable__label fitted sk-toggleable__label-arrow\"><div><div>LinearRegression</div></div><div><a class=\"sk-estimator-doc-link fitted\" rel=\"noreferrer\" target=\"_blank\" href=\"https://scikit-learn.org/1.6/modules/generated/sklearn.linear_model.LinearRegression.html\">?<span>Documentation for LinearRegression</span></a><span class=\"sk-estimator-doc-link fitted\">i<span>Fitted</span></span></div></label><div class=\"sk-toggleable__content fitted\"><pre>LinearRegression()</pre></div> </div></div></div></div>"
            ],
            "text/plain": [
              "LinearRegression()"
            ]
          },
          "execution_count": 17,
          "metadata": {},
          "output_type": "execute_result"
        }
      ],
      "source": [
        "from sklearn.preprocessing import PolynomialFeatures\n",
        "from sklearn.model_selection import train_test_split # Import train_test_split\n",
        "\n",
        "# ... (Your previous code) ...\n",
        "\n",
        "x=df_filtered['Year'].to_numpy().reshape(-1, 1) # Reshape x to be a 2D array\n",
        "y=df_filtered['Value'].to_numpy().reshape(-1,1) # Reshape x to be a 2D array\n",
        "\n",
        "# Split the data into training and testing sets\n",
        "x_train, x_test, y_train, y_test = train_test_split(x, y, test_size=0.2, random_state=42) # Added train_test_split\n",
        "\n",
        "poly = PolynomialFeatures(degree=3)  # يمكن تجربة 2 أو 3 حسب الدقة\n",
        "X_poly = poly.fit_transform(x_train)\n",
        "model_poly = LinearRegression()\n",
        "model_poly.fit(X_poly, y_train)\n",
        "\n",
        "# ... (Rest of your code) ..."
      ]
    },
    {
      "cell_type": "code",
      "execution_count": 18,
      "metadata": {
        "id": "YW6wCDKzzfww"
      },
      "outputs": [],
      "source": [
        "x_test_poly = poly.transform(x_test)\n",
        "# Instead of using the original model, use the model trained on polynomial features\n",
        "y_pred = model_poly.predict(x_test_poly)"
      ]
    },
    {
      "cell_type": "code",
      "execution_count": 19,
      "metadata": {
        "colab": {
          "base_uri": "https://localhost:8080/"
        },
        "id": "gGX0eJCpzkoJ",
        "outputId": "7c49ac4c-0135-4828-90f4-a48a9558ea97"
      },
      "outputs": [
        {
          "name": "stdout",
          "output_type": "stream",
          "text": [
            "🔍 متوسط الخطأ المطلق (MAE): 52379.74\n",
            "📊 معامل التحديد (R² Score): 0.9703\n"
          ]
        }
      ],
      "source": [
        "from sklearn.metrics import mean_absolute_error, r2_score\n",
        "\n",
        "# حساب الأخطاء\n",
        "mae = mean_absolute_error(y_test, y_pred)\n",
        "r2 = r2_score(y_test, y_pred)\n",
        "\n",
        "print(f\"🔍 متوسط الخطأ المطلق (MAE): {mae:.2f}\")\n",
        "print(f\"📊 معامل التحديد (R² Score): {r2:.4f}\")  # كلما اقترب من 1، كان النموذج أفضل\n"
      ]
    },
    {
      "cell_type": "code",
      "execution_count": 22,
      "metadata": {
        "colab": {
          "base_uri": "https://localhost:8080/"
        },
        "id": "-tNAGPF0VhGI",
        "outputId": "97bf7440-1099-401e-940f-1ca18936f706"
      },
      "outputs": [
        {
          "name": "stdout",
          "output_type": "stream",
          "text": [
            "{1547933} [[2018]]\n"
          ]
        }
      ],
      "source": [
        "import numpy as np\n",
        "\n",
        "year = np.array([[2018]])  # Removed extra space before 'year'\n",
        "\n",
        "# Use model_poly for prediction, not 'model'\n",
        "prediction_2025 = model_poly.predict(poly.transform(year)) # Apply poly transform and predict using model_poly\n",
        "\n",
        "# print(f\"📢 التوقع لعدد الطلاب في 2024: {int(prediction_2025[0][0])} طالب\")\n",
        "print({int(prediction_2025[0][0])} ,year)"
      ]
    },
    {
      "cell_type": "code",
      "execution_count": 26,
      "metadata": {
        "colab": {
          "base_uri": "https://localhost:8080/"
        },
        "id": "ARaD0ZKpBxGB",
        "outputId": "35ec7ce1-1170-4c56-8e6a-a20fa321673a"
      },
      "outputs": [
        {
          "name": "stdout",
          "output_type": "stream",
          "text": [
            "     Year  Actual Value  Predicted Value    Error %\n",
            "0  2010.0     1144271.0     1.067852e+06   6.678368\n",
            "1  2004.0      716452.0     7.233204e+05   0.958675\n",
            "2  2009.0     1149666.0     1.008006e+06  12.321801\n",
            "3  1993.0      303111.0     2.820397e+05   6.951662\n",
            "4  2018.0     1600676.0     1.547934e+06   3.294996\n",
            "5  2006.0      817968.0     8.334863e+05   1.897182\n"
          ]
        }
      ],
      "source": [
        "import pandas as pd\n",
        "\n",
        "# إنشاء DataFrame لعرض السنة، القيم الحقيقية، والقيم المتوقعة\n",
        "df_results = pd.DataFrame({\n",
        "    \"Year\": x_test.flatten(),   # السنة\n",
        "    \"Actual Value\": y_test.flatten(),  # القيم الحقيقية\n",
        "    \"Predicted Value\": y_pred.flatten()  # القيم المتوقعة\n",
        "})\n",
        "\n",
        "# طباعة أول 10 نتائج\n",
        "df_results[\"Error %\"] = abs(df_results[\"Actual Value\"] - df_results[\"Predicted Value\"]) / df_results[\"Actual Value\"] * 100\n",
        "print(df_results)  # طباعة أول 10 نتائج\n"
      ]
    },
    {
      "cell_type": "code",
      "execution_count": 27,
      "metadata": {
        "colab": {
          "base_uri": "https://localhost:8080/"
        },
        "id": "I0LOgiUZEdat",
        "outputId": "58bb4b1e-67d3-46f4-ea30-758b6affbce1"
      },
      "outputs": [
        {
          "name": "stdout",
          "output_type": "stream",
          "text": [
            "📊 إجمالي نسبة الخطأ المطلقة (MAPE): 5.35%\n"
          ]
        }
      ],
      "source": [
        "import numpy as np\n",
        "\n",
        "# حساب نسبة الخطأ لكل سنة\n",
        "df_results[\"Error %\"] = abs(df_results[\"Actual Value\"] - df_results[\"Predicted Value\"]) / df_results[\"Actual Value\"] * 100\n",
        "\n",
        "# حساب إجمالي نسبة الخطأ\n",
        "mape = np.mean(df_results[\"Error %\"])\n",
        "\n",
        "print(f\"📊 إجمالي نسبة الخطأ المطلقة (MAPE): {mape:.2f}%\")\n"
      ]
    }
  ],
  "metadata": {
    "colab": {
      "provenance": []
    },
    "kernelspec": {
      "display_name": "Python 3",
      "name": "python3"
    },
    "language_info": {
      "name": "python"
    }
  },
  "nbformat": 4,
  "nbformat_minor": 0
}
